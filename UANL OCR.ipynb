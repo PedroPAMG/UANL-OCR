{
 "cells": [
  {
   "cell_type": "markdown",
   "metadata": {},
   "source": [
    "<h1 style=\"color:#1B4F72;\">UANL OCR</h1>\n",
    "<b>Pedro Antonio Martinez Gonzalez 1798942</b>\n",
    "<br><br>\n",
    "<i>El objetivo es procesar 1,110 archivos PDF todos escaneados, extraer la matricula y nombre del alumno para posteriormente modificar el nombre del archivo PDF por la matricula y nombre.</i>"
   ]
  },
  {
   "cell_type": "markdown",
   "metadata": {},
   "source": [
    "<h1 style=\"color:#1B4F72;\">Instalar Dependencias</h1>\n",
    "<h3>Ejecutar los siguientes comandos</h3>\n",
    "<i>pip install pdf2image</i><br>\n",
    "<i>pip install opencv-python</i><br>\n",
    "<i>pip install pytesseract</i><br>\n",
    "\n",
    "<h3>Instalar pyteseract en windows</h3>\n",
    "<i>Descargar el ejecutable de </i><a>https://github.com/UB-Mannheim/tesseract/wiki</a><i>, es recomendable instalarlo para todos los usuarios del sistema y en la ruta predeterminada de instalación, de lo contrario será necesario cambiar la línea 15 del main.py por la nueva ruta de tesseract.exe.</i>"
   ]
  },
  {
   "cell_type": "code",
   "execution_count": 4,
   "metadata": {},
   "outputs": [],
   "source": [
    "from pdf2image import convert_from_path\n",
    "import cv2\n",
    "import pytesseract\n",
    "from pytesseract import Output\n",
    "import matplotlib.pyplot as plt\n",
    "from os import scandir\n",
    "import numpy as np\n",
    "import re\n",
    "import os\n",
    "\n",
    "banned_symbol = ('/','|','\"','!','(',')','_',';','.','~','‘','-','“','—',\"'\",'*',':','[',']','»',',','}','{','§','°','=')\n",
    "banned_letter = ('a', 'b', 'c', 'd', 'e', 'é', 'f', 'g', 'h', 'i', 'j', 'k', 'l', 'm', 'n', 'o', 'p', 'q', 'r', 's', 't', 'u', 'v', 'w', 'x', 'y', 'z')\n",
    "banned_number = ('0','1','2','3','4','5','6','7','8','9')\n",
    "\n",
    "pytesseract.pytesseract.tesseract_cmd = r'C:\\Program Files\\Tesseract-OCR\\tesseract.exe'\n",
    "custom_config = r'--oem 3 --psm 6'"
   ]
  },
  {
   "cell_type": "markdown",
   "metadata": {},
   "source": [
    "<h3>Esta función devuelve una lista con los archivos contenidos en un directorio</h3>"
   ]
  },
  {
   "cell_type": "code",
   "execution_count": 5,
   "metadata": {},
   "outputs": [],
   "source": [
    "def ls2(path): \n",
    "    return [obj.name for obj in scandir(path) if obj.is_file()]"
   ]
  },
  {
   "cell_type": "markdown",
   "metadata": {},
   "source": [
    "<h3>Convierte un archivo PDF a una Imagen</h3>"
   ]
  },
  {
   "cell_type": "code",
   "execution_count": 6,
   "metadata": {},
   "outputs": [],
   "source": [
    "def pdf_to_image(pdf_name):\n",
    "    images = convert_from_path(pdf_path = 'PDF/' + pdf_name , poppler_path = r'poppler-21.02.0\\Library\\bin')\n",
    "    images[0].save(pdf_name + '.jpg', 'JPEG')"
   ]
  },
  {
   "cell_type": "markdown",
   "metadata": {},
   "source": [
    "<img src=https://pythonforundergradengineers.com/posts/pdf/images/pdf_to_dir.png width=504 height=274>"
   ]
  },
  {
   "cell_type": "markdown",
   "metadata": {},
   "source": [
    "<h3>Esta función preparar la imagen para ser procesada por el OCR</h3>"
   ]
  },
  {
   "cell_type": "code",
   "execution_count": 3,
   "metadata": {},
   "outputs": [],
   "source": [
    "def image_pre_process(jpg_name):\n",
    "    image = cv2.imread(jpg_name + '.jpg')\n",
    "    os.remove(jpg_name + '.jpg')\n",
    "    \n",
    "    matricula_img = ''\n",
    "    name_img = ''\n",
    "    x = False\n",
    "    \n",
    "    gray_image = cv2.cvtColor(image, cv2.COLOR_BGR2GRAY)\n",
    "    threshold_img = cv2.threshold(gray_image, 0, 255, cv2.THRESH_BINARY | cv2.THRESH_OTSU)[1]\n",
    "    \n",
    "    details = pytesseract.image_to_data(threshold_img, output_type=Output.DICT, config=custom_config, lang='eng')\n",
    "    total_boxes = len(details['text'])\n",
    "    \n",
    "    for sequence_number in range(total_boxes):\n",
    "        if details['text'][sequence_number] == \"Alumno\" and x == False:\n",
    "            if int(details['conf'][sequence_number]) >30:\n",
    "                (x, y, w, h) = (details['left'][sequence_number], details['top'][sequence_number], details['width'][sequence_number], details['height'][sequence_number])\n",
    "                matricula_img = threshold_img[y - 10 : y + h + 60 , x - 45 : x + w + 50]\n",
    "                x = True\n",
    "                continue\n",
    "\n",
    "        if details['text'][sequence_number] == \"Alumno\" and x == True:\n",
    "            if int(details['conf'][sequence_number]) >30:\n",
    "                (x, y, w, h) = (details['left'][sequence_number], details['top'][sequence_number], details['width'][sequence_number], details['height'][sequence_number])\n",
    "                name_img = threshold_img[y + 12 : y + h + 65 , x - 150 : x + w + 600]\n",
    "\n",
    "    return matricula_img, name_img"
   ]
  },
  {
   "cell_type": "markdown",
   "metadata": {},
   "source": [
    "<img src=\"https://scontent.fmty1-1.fna.fbcdn.net/v/t1.15752-9/164340173_210942620825075_1228154719396614310_n.png?_nc_cat=110&ccb=1-3&_nc_sid=ae9488&_nc_ohc=1LQmyAHbBmUAX8XficG&_nc_oc=AQm9Y7YZFlGVNb2ebqRJHzGRjkRIBNt8LMDPrn7-PpnbYzTT5By3HAPqgxH8xm8di7I&_nc_ht=scontent.fmty1-1.fna&oh=3db28e53ea5b6ac114da29427eb9c330&oe=60884F52\">"
   ]
  },
  {
   "cell_type": "markdown",
   "metadata": {},
   "source": [
    "<h3>Procesa la imagen y extrae los valores de matricula y nombre</h3>"
   ]
  },
  {
   "cell_type": "code",
   "execution_count": 7,
   "metadata": {},
   "outputs": [],
   "source": [
    "def image_process(matricula_img, name_img, file):\n",
    "    name = ''\n",
    "    matricula = ''\n",
    "    \n",
    "    if type(matricula_img).__module__ == np.__name__ and type(name_img).__module__ == np.__name__:\n",
    "        matricula_details = pytesseract.image_to_data(matricula_img, output_type=Output.DICT, config=custom_config, lang='eng')\n",
    "        name_details = pytesseract.image_to_data(name_img, output_type=Output.DICT, config=custom_config, lang='eng')\n",
    "\n",
    "        for i in range(len(matricula_details['text'])):\n",
    "            if re.findall(\"\\d{7}\", matricula_details['text'][i]) and matricula == '':\n",
    "                matricula = matricula_details['text'][i]\n",
    "\n",
    "                if int(len(matricula)) >= 8:\n",
    "                    matricula = matricula[:7]\n",
    "    \n",
    "        for a in range(len(name_details['text'])):\n",
    "            name = name + name_details['text'][a]\n",
    "\n",
    "        for symbol in banned_number:\n",
    "            name = name.replace(symbol , '')\n",
    "\n",
    "        name = name.replace(\",\", \" \")\n",
    "        new_file_name = matricula + \" \" +  name\n",
    "    \n",
    "    else:\n",
    "        file = file.replace('.pdf','')\n",
    "        new_file_name = 'ERROR ' + file\n",
    "    \n",
    "    return new_file_name"
   ]
  },
  {
   "cell_type": "markdown",
   "metadata": {},
   "source": [
    "<h3>Esta función cambia el nombre del archivo</h3>"
   ]
  },
  {
   "cell_type": "code",
   "execution_count": 8,
   "metadata": {},
   "outputs": [],
   "source": [
    "def change_name(old_file_name, new_file_name):\n",
    "    try:\n",
    "        os.rename('PDF/{}'.format(old_file_name), \n",
    "                'PDF/{}.pdf'.format(new_file_name))\n",
    "    except:\n",
    "        os.rename('PDF/{}'.format(old_file_name), \n",
    "                'PDF/{}'.format('ERROR ' + old_file_name))"
   ]
  },
  {
   "cell_type": "markdown",
   "metadata": {},
   "source": [
    "<h3>Aquí se ejecutan todas las funciones definidas anteriormente</h3>"
   ]
  },
  {
   "cell_type": "code",
   "execution_count": null,
   "metadata": {},
   "outputs": [
    {
     "name": "stdout",
     "output_type": "stream",
     "text": [
      "Archivo de Entrada:\t1449328 GONZALEZ CHARLES ANTONIO.pdf\n",
      "Archivo de Salida:\t1449328 GONZALEZ CHARLES ANTONIO.pdf\n",
      "\n",
      "Archivo de Entrada:\t1450903 GARCIA ZUNIGA ALAN.pdf\n",
      "Archivo de Salida:\t1450903 GARCIA ZUNIGA ALAN.pdf\n",
      "\n",
      "Archivo de Entrada:\t1456670 ORTIZ MORALES CRISTOPHERVIDAL.pdf\n",
      "Archivo de Salida:\t1456670 ORTIZ MORALES CRISTOPHERVIDAL.pdf\n",
      "\n",
      "Archivo de Entrada:\t1488970 MORENO CORONADO OSCARANDRES.pdf\n",
      "Archivo de Salida:\t1488970 MORENO CORONADO OSCARANDRES.pdf\n",
      "\n",
      "Archivo de Entrada:\t1497040 TORRES GONZALEZ NELLYMICHELL.pdf\n",
      "Archivo de Salida:\t1497040 TORRES GONZALEZ NELLYMICHELL.pdf\n",
      "\n",
      "Archivo de Entrada:\t1594693 MARTINEZ MENDEZ ALEJANDRO.pdf\n"
     ]
    }
   ],
   "source": [
    "files = ls2('PDF/')\n",
    "\n",
    "for file in files:\n",
    "    print(\"Archivo de Entrada:\\t\" + file)\n",
    "\n",
    "    pdf_to_image(file)\n",
    "    \n",
    "    matricula_img, name_img = image_pre_process(file)\n",
    "    new_file_name = image_process(matricula_img, name_img, file)\n",
    "\n",
    "    for symbol in banned_symbol:\n",
    "        new_file_name = new_file_name.replace(symbol , '')\n",
    "    for symbol in banned_letter:\n",
    "        new_file_name = new_file_name.replace(symbol , '')\n",
    "\n",
    "    change_name(file, new_file_name)\n",
    "\n",
    "    print(\"Archivo de Salida:\\t\" + new_file_name + \".pdf\\n\")"
   ]
  },
  {
   "cell_type": "markdown",
   "metadata": {},
   "source": [
    "<h1 style=\"color:#1B4F72;\"> Ejecucion</h1>\n",
    "<i>Para la ejecución es necesario cumplir con las dependencias de la sección “Instalar Dependencias”, lo siguiente es colocar los archivos que desea renombrar en el directorio “PDF”, por último, ejecutar el main.py con el comando “python main.py”</i>\n",
    "<img src=\"https://scontent-qro1-1.xx.fbcdn.net/v/t1.15752-9/155914620_1043209652838958_216827113365319928_n.png?_nc_cat=109&ccb=3&_nc_sid=ae9488&_nc_eui2=AeHSaZFZqTvy6SIF5HVJB7zuVfXPyRnOtnlV9c_JGc62ebO4MN5YL_optt8fB3HMFXt4Mmb-qErUpp_GFtVMT7Wb&_nc_ohc=YddR4pbSCYYAX8-SrA5&_nc_ht=scontent-qro1-1.xx&oh=c34adff9c8343a0e0155c32432007596&oe=6062FDD0\">"
   ]
  }
 ],
 "metadata": {
  "kernelspec": {
   "display_name": "Python 3",
   "language": "python",
   "name": "python3"
  },
  "language_info": {
   "codemirror_mode": {
    "name": "ipython",
    "version": 3
   },
   "file_extension": ".py",
   "mimetype": "text/x-python",
   "name": "python",
   "nbconvert_exporter": "python",
   "pygments_lexer": "ipython3",
   "version": "3.8.5"
  }
 },
 "nbformat": 4,
 "nbformat_minor": 4
}
