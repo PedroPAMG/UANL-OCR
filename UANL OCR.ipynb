{
 "cells": [
  {
   "cell_type": "markdown",
   "metadata": {},
   "source": [
    "<h1 style=\"color:#1B4F72;\">UANL OCR</h1>\n",
    "<b>Pedro Antonio Martinez Gonzalez 1798942</b>\n",
    "<br><br>\n",
    "<i>El objetivo es procesar 1,110 archivos PDF todos escaneados, extraer la matricula y nombre del alumno para posteriormente modificar el nombre del archivo PDF por la matricula y nombre.</i>"
   ]
  },
  {
   "cell_type": "markdown",
   "metadata": {},
   "source": [
    "<h1 style=\"color:#1B4F72;\">Instalar Dependencias</h1>\n",
    "<h3>Ejecutar los siguientes comandos</h3>\n",
    "<i>pip install pdf2image</i><br>\n",
    "<i>pip install opencv-python</i><br>\n",
    "<i>pip install pytesseract</i><br>\n",
    "\n",
    "<h3>Instalar pyteseract en windows</h3>\n",
    "<i>Descargar el ejecutable de </i><a>https://github.com/UB-Mannheim/tesseract/wiki</a><i>, es recomendable instalarlo para todos los usuarios del sistema y en la ruta predeterminada de instalación, de lo contrario será necesario cambiar la línea 10 del main.py por la nueva ruta de tesseract.exe.</i>"
   ]
  },
  {
   "cell_type": "code",
   "execution_count": 1,
   "metadata": {},
   "outputs": [],
   "source": [
    "from pdf2image import convert_from_path\n",
    "import cv2\n",
    "import pytesseract\n",
    "from pytesseract import Output\n",
    "import matplotlib.pyplot as plt\n",
    "from os import scandir\n",
    "import re\n",
    "import os\n",
    "\n",
    "pytesseract.pytesseract.tesseract_cmd = r'C:\\Program Files\\Tesseract-OCR\\tesseract.exe'\n",
    "custom_config = r'--oem 3 --psm 6'"
   ]
  },
  {
   "cell_type": "markdown",
   "metadata": {},
   "source": [
    "<h3>Esta función devuelve una lista con los archivos contenidos en un directorio</h3>"
   ]
  },
  {
   "cell_type": "code",
   "execution_count": 2,
   "metadata": {},
   "outputs": [],
   "source": [
    "def ls2(path): \n",
    "    return [obj.name for obj in scandir(path) if obj.is_file()]"
   ]
  },
  {
   "cell_type": "markdown",
   "metadata": {},
   "source": [
    "<h3>Convierte un archivo PDF a una Imagen</h3>"
   ]
  },
  {
   "cell_type": "code",
   "execution_count": 3,
   "metadata": {},
   "outputs": [],
   "source": [
    "def pdf_to_image(pdf_name):\n",
    "    images = convert_from_path(pdf_path = 'PDF/' + pdf_name , poppler_path = r'poppler-21.02.0\\Library\\bin')\n",
    "    images[0].save(pdf_name + '.jpg', 'JPEG')"
   ]
  },
  {
   "cell_type": "markdown",
   "metadata": {},
   "source": [
    "<img src=https://pythonforundergradengineers.com/posts/pdf/images/pdf_to_dir.png width=504 height=274>"
   ]
  },
  {
   "cell_type": "markdown",
   "metadata": {},
   "source": [
    "<h3>Esta función preparar la imagen para ser procesada por el OCR</h3>"
   ]
  },
  {
   "cell_type": "code",
   "execution_count": 4,
   "metadata": {},
   "outputs": [],
   "source": [
    "def image_pre_process(jpg_name):\n",
    "    image = cv2.imread(jpg_name + '.jpg')\n",
    "    os.remove(jpg_name + '.jpg')\n",
    "\n",
    "    gray_image = cv2.cvtColor(image, cv2.COLOR_BGR2GRAY)\n",
    "    threshold_img = cv2.threshold(gray_image, 0, 255, cv2.THRESH_BINARY | cv2.THRESH_OTSU)[1]\n",
    "    \n",
    "    details = pytesseract.image_to_data(threshold_img, output_type=Output.DICT, config=custom_config, lang='eng')\n",
    "    total_boxes = len(details['text'])\n",
    "    \n",
    "    for sequence_number in range(total_boxes):\n",
    "        if details['text'][sequence_number] == \"Numero\" and details['text'][sequence_number + 1] == \"de\" and details['text'][sequence_number + 2] == \"Alumno\":\n",
    "            if int(details['conf'][sequence_number]) >30:\n",
    "                (x, y, w, h) = (details['left'][sequence_number], details['top'][sequence_number], details['width'][sequence_number], details['height'][sequence_number])\n",
    "                threshold_img = threshold_img[y - 20 : y + h + 80 , x - 30 : x + w + 1300]\n",
    "\n",
    "    return threshold_img"
   ]
  },
  {
   "cell_type": "markdown",
   "metadata": {},
   "source": [
    "<img src=\"https://scontent-qro1-1.xx.fbcdn.net/v/t1.15752-9/151792787_482624906240857_5248179418294355423_n.png?_nc_cat=100&ccb=3&_nc_sid=ae9488&_nc_eui2=AeHuhavq_Ycipxx0wyWSGmwpLNfc5VkI0rss19zlWQjSu-0nnb9-85Ngj14avJtJ44NhxTfjCpf3ES1bHES9iQhP&_nc_ohc=x6sualnmvJoAX8x_Qmk&_nc_ht=scontent-qro1-1.xx&oh=caa3c6a0c5b9d239cef8407be3bc818e&oe=60615457\">"
   ]
  },
  {
   "cell_type": "markdown",
   "metadata": {},
   "source": [
    "<h3>Procesa la imagen y extrae los valores de matricula y nombre</h3>"
   ]
  },
  {
   "cell_type": "code",
   "execution_count": 5,
   "metadata": {},
   "outputs": [],
   "source": [
    "def image_process(threshold_img):\n",
    "    details = pytesseract.image_to_data(threshold_img, output_type=Output.DICT, config=custom_config, lang='eng')\n",
    "\n",
    "    name = ''\n",
    "    matricula = ''\n",
    "    \n",
    "    for i in range(len(details['text'])):\n",
    "        if re.findall(\"\\d{7}\", details['text'][i]) and matricula == '':\n",
    "            matricula = details['text'][i]\n",
    "            continue\n",
    "\n",
    "        if bool(re.findall(\"\\d{7}\", details['text'][i])) == False and matricula != '':\n",
    "            name = name + details['text'][i]\n",
    "\n",
    "        if re.findall(\"\\d{7}\", details['text'][i]) and matricula != '':\n",
    "            break\n",
    "    \n",
    "    name = name.replace(\",\", \" \")\n",
    "    return matricula + \" \" +  name"
   ]
  },
  {
   "cell_type": "markdown",
   "metadata": {},
   "source": [
    "<h3>Esta función cambia el nombre del archivo</h3>"
   ]
  },
  {
   "cell_type": "code",
   "execution_count": 6,
   "metadata": {},
   "outputs": [],
   "source": [
    "def change_name(old_file_name, new_file_name):\n",
    "    os.rename('PDF\\{}'.format(old_file_name), \n",
    "              'PDF\\{}.pdf'.format(new_file_name))"
   ]
  },
  {
   "cell_type": "markdown",
   "metadata": {},
   "source": [
    "<h3>Aquí se ejecutan todas las funciones definidas anteriormente</h3>"
   ]
  },
  {
   "cell_type": "code",
   "execution_count": 8,
   "metadata": {},
   "outputs": [
    {
     "name": "stdout",
     "output_type": "stream",
     "text": [
      "Archivo de Entrada:\t20201215-045000001.pdf\n",
      "Archivo de Salida:\t1968610 HERRERA SANCHEZ VICTORIA.pdf\n",
      "\n"
     ]
    }
   ],
   "source": [
    "files = ls2('PDF/')\n",
    "\n",
    "for file in files:\n",
    "    pdf_to_image(file)\n",
    "    \n",
    "    threshold_img = image_pre_process(file)\n",
    "    new_file_name = image_process(threshold_img)\n",
    "\n",
    "    change_name(file, new_file_name)\n",
    "    print(\"Archivo de Entrada:\\t\" + file)\n",
    "    print(\"Archivo de Salida:\\t\" + new_file_name + \".pdf\\n\")"
   ]
  },
  {
   "cell_type": "markdown",
   "metadata": {},
   "source": [
    "<h1 style=\"color:#1B4F72;\"> Ejecucion</h1>\n",
    "<i>Para la ejecución es necesario cumplir con las dependencias de la sección “Instalar Dependencias”, lo siguiente es colocar los archivos que desea renombrar en el directorio “PDF”, por último, ejecutar el main.py con el comando “python main.py”</i>\n",
    "<img src=\"https://scontent-qro1-1.xx.fbcdn.net/v/t1.15752-9/155914620_1043209652838958_216827113365319928_n.png?_nc_cat=109&ccb=3&_nc_sid=ae9488&_nc_eui2=AeHSaZFZqTvy6SIF5HVJB7zuVfXPyRnOtnlV9c_JGc62ebO4MN5YL_optt8fB3HMFXt4Mmb-qErUpp_GFtVMT7Wb&_nc_ohc=YddR4pbSCYYAX8-SrA5&_nc_ht=scontent-qro1-1.xx&oh=c34adff9c8343a0e0155c32432007596&oe=6062FDD0\">"
   ]
  }
 ],
 "metadata": {
  "kernelspec": {
   "display_name": "Python 3",
   "language": "python",
   "name": "python3"
  },
  "language_info": {
   "codemirror_mode": {
    "name": "ipython",
    "version": 3
   },
   "file_extension": ".py",
   "mimetype": "text/x-python",
   "name": "python",
   "nbconvert_exporter": "python",
   "pygments_lexer": "ipython3",
   "version": "3.8.5"
  }
 },
 "nbformat": 4,
 "nbformat_minor": 4
}
